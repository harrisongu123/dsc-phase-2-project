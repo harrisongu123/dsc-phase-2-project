{
 "cells": [
  {
   "cell_type": "markdown",
   "metadata": {},
   "source": [
    "## Final Project Submission\n",
    "\n",
    "Please fill out:\n",
    "* Student name: Harrison Gu and Justin Hue\n",
    "* Student pace: full time\n",
    "* Scheduled project review date/time: \n",
    "* Instructor name: Yish Lim\n",
    "\n",
    "Business question: We are running a construction company and would like to determine how to build houses that sell at a higher price.\n"
   ]
  },
  {
   "cell_type": "markdown",
   "metadata": {},
   "source": [
    "Import necessary libraries"
   ]
  },
  {
   "cell_type": "code",
   "execution_count": 38,
   "metadata": {},
   "outputs": [],
   "source": [
    "import pandas as pd\n",
    "import numpy as np\n",
    "from sklearn.linear_model import LinearRegression\n",
    "from sklearn.model_selection import cross_val_score\n",
    "from sklearn.model_selection import KFold\n",
    "from itertools import combinations\n",
    "import statsmodels.api as sm\n",
    "from statsmodels.formula.api import ols\n",
    "import scipy.stats as stats\n",
    "import statsmodels.stats.api as sms\n",
    "from sklearn.preprocessing import LabelEncoder\n",
    "from sklearn.preprocessing import OneHotEncoder\n",
    "import matplotlib.pyplot as plt\n",
    "plt.style.use('seaborn')"
   ]
  },
  {
   "cell_type": "markdown",
   "metadata": {},
   "source": [
    "Investigate the data"
   ]
  },
  {
   "cell_type": "code",
   "execution_count": 2,
   "metadata": {},
   "outputs": [
    {
     "data": {
      "text/html": [
       "<div>\n",
       "<style scoped>\n",
       "    .dataframe tbody tr th:only-of-type {\n",
       "        vertical-align: middle;\n",
       "    }\n",
       "\n",
       "    .dataframe tbody tr th {\n",
       "        vertical-align: top;\n",
       "    }\n",
       "\n",
       "    .dataframe thead th {\n",
       "        text-align: right;\n",
       "    }\n",
       "</style>\n",
       "<table border=\"1\" class=\"dataframe\">\n",
       "  <thead>\n",
       "    <tr style=\"text-align: right;\">\n",
       "      <th></th>\n",
       "      <th>id</th>\n",
       "      <th>date</th>\n",
       "      <th>price</th>\n",
       "      <th>bedrooms</th>\n",
       "      <th>bathrooms</th>\n",
       "      <th>sqft_living</th>\n",
       "      <th>sqft_lot</th>\n",
       "      <th>floors</th>\n",
       "      <th>waterfront</th>\n",
       "      <th>view</th>\n",
       "      <th>...</th>\n",
       "      <th>grade</th>\n",
       "      <th>sqft_above</th>\n",
       "      <th>sqft_basement</th>\n",
       "      <th>yr_built</th>\n",
       "      <th>yr_renovated</th>\n",
       "      <th>zipcode</th>\n",
       "      <th>lat</th>\n",
       "      <th>long</th>\n",
       "      <th>sqft_living15</th>\n",
       "      <th>sqft_lot15</th>\n",
       "    </tr>\n",
       "  </thead>\n",
       "  <tbody>\n",
       "    <tr>\n",
       "      <th>0</th>\n",
       "      <td>7129300520</td>\n",
       "      <td>10/13/2014</td>\n",
       "      <td>221900.0</td>\n",
       "      <td>3</td>\n",
       "      <td>1.00</td>\n",
       "      <td>1180</td>\n",
       "      <td>5650</td>\n",
       "      <td>1.0</td>\n",
       "      <td>NaN</td>\n",
       "      <td>0.0</td>\n",
       "      <td>...</td>\n",
       "      <td>7</td>\n",
       "      <td>1180</td>\n",
       "      <td>0.0</td>\n",
       "      <td>1955</td>\n",
       "      <td>0.0</td>\n",
       "      <td>98178</td>\n",
       "      <td>47.5112</td>\n",
       "      <td>-122.257</td>\n",
       "      <td>1340</td>\n",
       "      <td>5650</td>\n",
       "    </tr>\n",
       "    <tr>\n",
       "      <th>1</th>\n",
       "      <td>6414100192</td>\n",
       "      <td>12/9/2014</td>\n",
       "      <td>538000.0</td>\n",
       "      <td>3</td>\n",
       "      <td>2.25</td>\n",
       "      <td>2570</td>\n",
       "      <td>7242</td>\n",
       "      <td>2.0</td>\n",
       "      <td>0.0</td>\n",
       "      <td>0.0</td>\n",
       "      <td>...</td>\n",
       "      <td>7</td>\n",
       "      <td>2170</td>\n",
       "      <td>400.0</td>\n",
       "      <td>1951</td>\n",
       "      <td>1991.0</td>\n",
       "      <td>98125</td>\n",
       "      <td>47.7210</td>\n",
       "      <td>-122.319</td>\n",
       "      <td>1690</td>\n",
       "      <td>7639</td>\n",
       "    </tr>\n",
       "    <tr>\n",
       "      <th>2</th>\n",
       "      <td>5631500400</td>\n",
       "      <td>2/25/2015</td>\n",
       "      <td>180000.0</td>\n",
       "      <td>2</td>\n",
       "      <td>1.00</td>\n",
       "      <td>770</td>\n",
       "      <td>10000</td>\n",
       "      <td>1.0</td>\n",
       "      <td>0.0</td>\n",
       "      <td>0.0</td>\n",
       "      <td>...</td>\n",
       "      <td>6</td>\n",
       "      <td>770</td>\n",
       "      <td>0.0</td>\n",
       "      <td>1933</td>\n",
       "      <td>NaN</td>\n",
       "      <td>98028</td>\n",
       "      <td>47.7379</td>\n",
       "      <td>-122.233</td>\n",
       "      <td>2720</td>\n",
       "      <td>8062</td>\n",
       "    </tr>\n",
       "    <tr>\n",
       "      <th>3</th>\n",
       "      <td>2487200875</td>\n",
       "      <td>12/9/2014</td>\n",
       "      <td>604000.0</td>\n",
       "      <td>4</td>\n",
       "      <td>3.00</td>\n",
       "      <td>1960</td>\n",
       "      <td>5000</td>\n",
       "      <td>1.0</td>\n",
       "      <td>0.0</td>\n",
       "      <td>0.0</td>\n",
       "      <td>...</td>\n",
       "      <td>7</td>\n",
       "      <td>1050</td>\n",
       "      <td>910.0</td>\n",
       "      <td>1965</td>\n",
       "      <td>0.0</td>\n",
       "      <td>98136</td>\n",
       "      <td>47.5208</td>\n",
       "      <td>-122.393</td>\n",
       "      <td>1360</td>\n",
       "      <td>5000</td>\n",
       "    </tr>\n",
       "    <tr>\n",
       "      <th>4</th>\n",
       "      <td>1954400510</td>\n",
       "      <td>2/18/2015</td>\n",
       "      <td>510000.0</td>\n",
       "      <td>3</td>\n",
       "      <td>2.00</td>\n",
       "      <td>1680</td>\n",
       "      <td>8080</td>\n",
       "      <td>1.0</td>\n",
       "      <td>0.0</td>\n",
       "      <td>0.0</td>\n",
       "      <td>...</td>\n",
       "      <td>8</td>\n",
       "      <td>1680</td>\n",
       "      <td>0.0</td>\n",
       "      <td>1987</td>\n",
       "      <td>0.0</td>\n",
       "      <td>98074</td>\n",
       "      <td>47.6168</td>\n",
       "      <td>-122.045</td>\n",
       "      <td>1800</td>\n",
       "      <td>7503</td>\n",
       "    </tr>\n",
       "  </tbody>\n",
       "</table>\n",
       "<p>5 rows × 21 columns</p>\n",
       "</div>"
      ],
      "text/plain": [
       "           id        date     price  bedrooms  bathrooms  sqft_living  \\\n",
       "0  7129300520  10/13/2014  221900.0         3       1.00         1180   \n",
       "1  6414100192   12/9/2014  538000.0         3       2.25         2570   \n",
       "2  5631500400   2/25/2015  180000.0         2       1.00          770   \n",
       "3  2487200875   12/9/2014  604000.0         4       3.00         1960   \n",
       "4  1954400510   2/18/2015  510000.0         3       2.00         1680   \n",
       "\n",
       "   sqft_lot  floors  waterfront  view  ...  grade  sqft_above  sqft_basement  \\\n",
       "0      5650     1.0         NaN   0.0  ...      7        1180            0.0   \n",
       "1      7242     2.0         0.0   0.0  ...      7        2170          400.0   \n",
       "2     10000     1.0         0.0   0.0  ...      6         770            0.0   \n",
       "3      5000     1.0         0.0   0.0  ...      7        1050          910.0   \n",
       "4      8080     1.0         0.0   0.0  ...      8        1680            0.0   \n",
       "\n",
       "  yr_built  yr_renovated  zipcode      lat     long  sqft_living15  sqft_lot15  \n",
       "0     1955           0.0    98178  47.5112 -122.257           1340        5650  \n",
       "1     1951        1991.0    98125  47.7210 -122.319           1690        7639  \n",
       "2     1933           NaN    98028  47.7379 -122.233           2720        8062  \n",
       "3     1965           0.0    98136  47.5208 -122.393           1360        5000  \n",
       "4     1987           0.0    98074  47.6168 -122.045           1800        7503  \n",
       "\n",
       "[5 rows x 21 columns]"
      ]
     },
     "execution_count": 2,
     "metadata": {},
     "output_type": "execute_result"
    }
   ],
   "source": [
    "df = pd.read_csv('kc_house_data.csv')\n",
    "df.head()"
   ]
  },
  {
   "cell_type": "code",
   "execution_count": 3,
   "metadata": {},
   "outputs": [
    {
     "name": "stdout",
     "output_type": "stream",
     "text": [
      "<class 'pandas.core.frame.DataFrame'>\n",
      "RangeIndex: 21597 entries, 0 to 21596\n",
      "Data columns (total 21 columns):\n",
      " #   Column         Non-Null Count  Dtype  \n",
      "---  ------         --------------  -----  \n",
      " 0   id             21597 non-null  int64  \n",
      " 1   date           21597 non-null  object \n",
      " 2   price          21597 non-null  float64\n",
      " 3   bedrooms       21597 non-null  int64  \n",
      " 4   bathrooms      21597 non-null  float64\n",
      " 5   sqft_living    21597 non-null  int64  \n",
      " 6   sqft_lot       21597 non-null  int64  \n",
      " 7   floors         21597 non-null  float64\n",
      " 8   waterfront     19221 non-null  float64\n",
      " 9   view           21534 non-null  float64\n",
      " 10  condition      21597 non-null  int64  \n",
      " 11  grade          21597 non-null  int64  \n",
      " 12  sqft_above     21597 non-null  int64  \n",
      " 13  sqft_basement  21597 non-null  object \n",
      " 14  yr_built       21597 non-null  int64  \n",
      " 15  yr_renovated   17755 non-null  float64\n",
      " 16  zipcode        21597 non-null  int64  \n",
      " 17  lat            21597 non-null  float64\n",
      " 18  long           21597 non-null  float64\n",
      " 19  sqft_living15  21597 non-null  int64  \n",
      " 20  sqft_lot15     21597 non-null  int64  \n",
      "dtypes: float64(8), int64(11), object(2)\n",
      "memory usage: 3.5+ MB\n"
     ]
    }
   ],
   "source": [
    "df.info()"
   ]
  },
  {
   "cell_type": "markdown",
   "metadata": {},
   "source": [
    "Check to see if any houses appear more than once. If so, remove duplicates."
   ]
  },
  {
   "cell_type": "code",
   "execution_count": 4,
   "metadata": {},
   "outputs": [
    {
     "data": {
      "text/html": [
       "<div>\n",
       "<style scoped>\n",
       "    .dataframe tbody tr th:only-of-type {\n",
       "        vertical-align: middle;\n",
       "    }\n",
       "\n",
       "    .dataframe tbody tr th {\n",
       "        vertical-align: top;\n",
       "    }\n",
       "\n",
       "    .dataframe thead th {\n",
       "        text-align: right;\n",
       "    }\n",
       "</style>\n",
       "<table border=\"1\" class=\"dataframe\">\n",
       "  <thead>\n",
       "    <tr style=\"text-align: right;\">\n",
       "      <th></th>\n",
       "      <th>id</th>\n",
       "      <th>date</th>\n",
       "      <th>price</th>\n",
       "      <th>bedrooms</th>\n",
       "      <th>bathrooms</th>\n",
       "      <th>sqft_living</th>\n",
       "      <th>sqft_lot</th>\n",
       "      <th>floors</th>\n",
       "      <th>waterfront</th>\n",
       "      <th>view</th>\n",
       "      <th>...</th>\n",
       "      <th>grade</th>\n",
       "      <th>sqft_above</th>\n",
       "      <th>sqft_basement</th>\n",
       "      <th>yr_built</th>\n",
       "      <th>yr_renovated</th>\n",
       "      <th>zipcode</th>\n",
       "      <th>lat</th>\n",
       "      <th>long</th>\n",
       "      <th>sqft_living15</th>\n",
       "      <th>sqft_lot15</th>\n",
       "    </tr>\n",
       "  </thead>\n",
       "  <tbody>\n",
       "    <tr>\n",
       "      <th>93</th>\n",
       "      <td>6021501535</td>\n",
       "      <td>7/25/2014</td>\n",
       "      <td>430000.0</td>\n",
       "      <td>3</td>\n",
       "      <td>1.50</td>\n",
       "      <td>1580</td>\n",
       "      <td>5000</td>\n",
       "      <td>1.0</td>\n",
       "      <td>0.0</td>\n",
       "      <td>0.0</td>\n",
       "      <td>...</td>\n",
       "      <td>8</td>\n",
       "      <td>1290</td>\n",
       "      <td>290.0</td>\n",
       "      <td>1939</td>\n",
       "      <td>0.0</td>\n",
       "      <td>98117</td>\n",
       "      <td>47.6870</td>\n",
       "      <td>-122.386</td>\n",
       "      <td>1570</td>\n",
       "      <td>4500</td>\n",
       "    </tr>\n",
       "    <tr>\n",
       "      <th>94</th>\n",
       "      <td>6021501535</td>\n",
       "      <td>12/23/2014</td>\n",
       "      <td>700000.0</td>\n",
       "      <td>3</td>\n",
       "      <td>1.50</td>\n",
       "      <td>1580</td>\n",
       "      <td>5000</td>\n",
       "      <td>1.0</td>\n",
       "      <td>0.0</td>\n",
       "      <td>0.0</td>\n",
       "      <td>...</td>\n",
       "      <td>8</td>\n",
       "      <td>1290</td>\n",
       "      <td>290.0</td>\n",
       "      <td>1939</td>\n",
       "      <td>0.0</td>\n",
       "      <td>98117</td>\n",
       "      <td>47.6870</td>\n",
       "      <td>-122.386</td>\n",
       "      <td>1570</td>\n",
       "      <td>4500</td>\n",
       "    </tr>\n",
       "    <tr>\n",
       "      <th>313</th>\n",
       "      <td>4139480200</td>\n",
       "      <td>6/18/2014</td>\n",
       "      <td>1380000.0</td>\n",
       "      <td>4</td>\n",
       "      <td>3.25</td>\n",
       "      <td>4290</td>\n",
       "      <td>12103</td>\n",
       "      <td>1.0</td>\n",
       "      <td>0.0</td>\n",
       "      <td>3.0</td>\n",
       "      <td>...</td>\n",
       "      <td>11</td>\n",
       "      <td>2690</td>\n",
       "      <td>1600.0</td>\n",
       "      <td>1997</td>\n",
       "      <td>0.0</td>\n",
       "      <td>98006</td>\n",
       "      <td>47.5503</td>\n",
       "      <td>-122.102</td>\n",
       "      <td>3860</td>\n",
       "      <td>11244</td>\n",
       "    </tr>\n",
       "    <tr>\n",
       "      <th>314</th>\n",
       "      <td>4139480200</td>\n",
       "      <td>12/9/2014</td>\n",
       "      <td>1400000.0</td>\n",
       "      <td>4</td>\n",
       "      <td>3.25</td>\n",
       "      <td>4290</td>\n",
       "      <td>12103</td>\n",
       "      <td>1.0</td>\n",
       "      <td>0.0</td>\n",
       "      <td>3.0</td>\n",
       "      <td>...</td>\n",
       "      <td>11</td>\n",
       "      <td>2690</td>\n",
       "      <td>1600.0</td>\n",
       "      <td>1997</td>\n",
       "      <td>0.0</td>\n",
       "      <td>98006</td>\n",
       "      <td>47.5503</td>\n",
       "      <td>-122.102</td>\n",
       "      <td>3860</td>\n",
       "      <td>11244</td>\n",
       "    </tr>\n",
       "    <tr>\n",
       "      <th>324</th>\n",
       "      <td>7520000520</td>\n",
       "      <td>9/5/2014</td>\n",
       "      <td>232000.0</td>\n",
       "      <td>2</td>\n",
       "      <td>1.00</td>\n",
       "      <td>1240</td>\n",
       "      <td>12092</td>\n",
       "      <td>1.0</td>\n",
       "      <td>NaN</td>\n",
       "      <td>0.0</td>\n",
       "      <td>...</td>\n",
       "      <td>6</td>\n",
       "      <td>960</td>\n",
       "      <td>280.0</td>\n",
       "      <td>1922</td>\n",
       "      <td>1984.0</td>\n",
       "      <td>98146</td>\n",
       "      <td>47.4957</td>\n",
       "      <td>-122.352</td>\n",
       "      <td>1820</td>\n",
       "      <td>7460</td>\n",
       "    </tr>\n",
       "    <tr>\n",
       "      <th>...</th>\n",
       "      <td>...</td>\n",
       "      <td>...</td>\n",
       "      <td>...</td>\n",
       "      <td>...</td>\n",
       "      <td>...</td>\n",
       "      <td>...</td>\n",
       "      <td>...</td>\n",
       "      <td>...</td>\n",
       "      <td>...</td>\n",
       "      <td>...</td>\n",
       "      <td>...</td>\n",
       "      <td>...</td>\n",
       "      <td>...</td>\n",
       "      <td>...</td>\n",
       "      <td>...</td>\n",
       "      <td>...</td>\n",
       "      <td>...</td>\n",
       "      <td>...</td>\n",
       "      <td>...</td>\n",
       "      <td>...</td>\n",
       "      <td>...</td>\n",
       "    </tr>\n",
       "    <tr>\n",
       "      <th>20654</th>\n",
       "      <td>8564860270</td>\n",
       "      <td>3/30/2015</td>\n",
       "      <td>502000.0</td>\n",
       "      <td>4</td>\n",
       "      <td>2.50</td>\n",
       "      <td>2680</td>\n",
       "      <td>5539</td>\n",
       "      <td>2.0</td>\n",
       "      <td>NaN</td>\n",
       "      <td>0.0</td>\n",
       "      <td>...</td>\n",
       "      <td>8</td>\n",
       "      <td>2680</td>\n",
       "      <td>0.0</td>\n",
       "      <td>2013</td>\n",
       "      <td>0.0</td>\n",
       "      <td>98045</td>\n",
       "      <td>47.4759</td>\n",
       "      <td>-121.734</td>\n",
       "      <td>2680</td>\n",
       "      <td>5992</td>\n",
       "    </tr>\n",
       "    <tr>\n",
       "      <th>20763</th>\n",
       "      <td>6300000226</td>\n",
       "      <td>6/26/2014</td>\n",
       "      <td>240000.0</td>\n",
       "      <td>4</td>\n",
       "      <td>1.00</td>\n",
       "      <td>1200</td>\n",
       "      <td>2171</td>\n",
       "      <td>1.5</td>\n",
       "      <td>0.0</td>\n",
       "      <td>0.0</td>\n",
       "      <td>...</td>\n",
       "      <td>7</td>\n",
       "      <td>1200</td>\n",
       "      <td>0.0</td>\n",
       "      <td>1933</td>\n",
       "      <td>0.0</td>\n",
       "      <td>98133</td>\n",
       "      <td>47.7076</td>\n",
       "      <td>-122.342</td>\n",
       "      <td>1130</td>\n",
       "      <td>1598</td>\n",
       "    </tr>\n",
       "    <tr>\n",
       "      <th>20764</th>\n",
       "      <td>6300000226</td>\n",
       "      <td>5/4/2015</td>\n",
       "      <td>380000.0</td>\n",
       "      <td>4</td>\n",
       "      <td>1.00</td>\n",
       "      <td>1200</td>\n",
       "      <td>2171</td>\n",
       "      <td>1.5</td>\n",
       "      <td>0.0</td>\n",
       "      <td>0.0</td>\n",
       "      <td>...</td>\n",
       "      <td>7</td>\n",
       "      <td>1200</td>\n",
       "      <td>0.0</td>\n",
       "      <td>1933</td>\n",
       "      <td>0.0</td>\n",
       "      <td>98133</td>\n",
       "      <td>47.7076</td>\n",
       "      <td>-122.342</td>\n",
       "      <td>1130</td>\n",
       "      <td>1598</td>\n",
       "    </tr>\n",
       "    <tr>\n",
       "      <th>21564</th>\n",
       "      <td>7853420110</td>\n",
       "      <td>10/3/2014</td>\n",
       "      <td>594866.0</td>\n",
       "      <td>3</td>\n",
       "      <td>3.00</td>\n",
       "      <td>2780</td>\n",
       "      <td>6000</td>\n",
       "      <td>2.0</td>\n",
       "      <td>0.0</td>\n",
       "      <td>0.0</td>\n",
       "      <td>...</td>\n",
       "      <td>9</td>\n",
       "      <td>2780</td>\n",
       "      <td>0.0</td>\n",
       "      <td>2013</td>\n",
       "      <td>0.0</td>\n",
       "      <td>98065</td>\n",
       "      <td>47.5184</td>\n",
       "      <td>-121.886</td>\n",
       "      <td>2850</td>\n",
       "      <td>6000</td>\n",
       "    </tr>\n",
       "    <tr>\n",
       "      <th>21565</th>\n",
       "      <td>7853420110</td>\n",
       "      <td>5/4/2015</td>\n",
       "      <td>625000.0</td>\n",
       "      <td>3</td>\n",
       "      <td>3.00</td>\n",
       "      <td>2780</td>\n",
       "      <td>6000</td>\n",
       "      <td>2.0</td>\n",
       "      <td>0.0</td>\n",
       "      <td>0.0</td>\n",
       "      <td>...</td>\n",
       "      <td>9</td>\n",
       "      <td>2780</td>\n",
       "      <td>0.0</td>\n",
       "      <td>2013</td>\n",
       "      <td>NaN</td>\n",
       "      <td>98065</td>\n",
       "      <td>47.5184</td>\n",
       "      <td>-121.886</td>\n",
       "      <td>2850</td>\n",
       "      <td>6000</td>\n",
       "    </tr>\n",
       "  </tbody>\n",
       "</table>\n",
       "<p>353 rows × 21 columns</p>\n",
       "</div>"
      ],
      "text/plain": [
       "               id        date      price  bedrooms  bathrooms  sqft_living  \\\n",
       "93     6021501535   7/25/2014   430000.0         3       1.50         1580   \n",
       "94     6021501535  12/23/2014   700000.0         3       1.50         1580   \n",
       "313    4139480200   6/18/2014  1380000.0         4       3.25         4290   \n",
       "314    4139480200   12/9/2014  1400000.0         4       3.25         4290   \n",
       "324    7520000520    9/5/2014   232000.0         2       1.00         1240   \n",
       "...           ...         ...        ...       ...        ...          ...   \n",
       "20654  8564860270   3/30/2015   502000.0         4       2.50         2680   \n",
       "20763  6300000226   6/26/2014   240000.0         4       1.00         1200   \n",
       "20764  6300000226    5/4/2015   380000.0         4       1.00         1200   \n",
       "21564  7853420110   10/3/2014   594866.0         3       3.00         2780   \n",
       "21565  7853420110    5/4/2015   625000.0         3       3.00         2780   \n",
       "\n",
       "       sqft_lot  floors  waterfront  view  ...  grade  sqft_above  \\\n",
       "93         5000     1.0         0.0   0.0  ...      8        1290   \n",
       "94         5000     1.0         0.0   0.0  ...      8        1290   \n",
       "313       12103     1.0         0.0   3.0  ...     11        2690   \n",
       "314       12103     1.0         0.0   3.0  ...     11        2690   \n",
       "324       12092     1.0         NaN   0.0  ...      6         960   \n",
       "...         ...     ...         ...   ...  ...    ...         ...   \n",
       "20654      5539     2.0         NaN   0.0  ...      8        2680   \n",
       "20763      2171     1.5         0.0   0.0  ...      7        1200   \n",
       "20764      2171     1.5         0.0   0.0  ...      7        1200   \n",
       "21564      6000     2.0         0.0   0.0  ...      9        2780   \n",
       "21565      6000     2.0         0.0   0.0  ...      9        2780   \n",
       "\n",
       "       sqft_basement yr_built  yr_renovated  zipcode      lat     long  \\\n",
       "93             290.0     1939           0.0    98117  47.6870 -122.386   \n",
       "94             290.0     1939           0.0    98117  47.6870 -122.386   \n",
       "313           1600.0     1997           0.0    98006  47.5503 -122.102   \n",
       "314           1600.0     1997           0.0    98006  47.5503 -122.102   \n",
       "324            280.0     1922        1984.0    98146  47.4957 -122.352   \n",
       "...              ...      ...           ...      ...      ...      ...   \n",
       "20654            0.0     2013           0.0    98045  47.4759 -121.734   \n",
       "20763            0.0     1933           0.0    98133  47.7076 -122.342   \n",
       "20764            0.0     1933           0.0    98133  47.7076 -122.342   \n",
       "21564            0.0     2013           0.0    98065  47.5184 -121.886   \n",
       "21565            0.0     2013           NaN    98065  47.5184 -121.886   \n",
       "\n",
       "       sqft_living15  sqft_lot15  \n",
       "93              1570        4500  \n",
       "94              1570        4500  \n",
       "313             3860       11244  \n",
       "314             3860       11244  \n",
       "324             1820        7460  \n",
       "...              ...         ...  \n",
       "20654           2680        5992  \n",
       "20763           1130        1598  \n",
       "20764           1130        1598  \n",
       "21564           2850        6000  \n",
       "21565           2850        6000  \n",
       "\n",
       "[353 rows x 21 columns]"
      ]
     },
     "execution_count": 4,
     "metadata": {},
     "output_type": "execute_result"
    }
   ],
   "source": [
    "df[df.duplicated(subset='id', keep=False)==True]"
   ]
  },
  {
   "cell_type": "code",
   "execution_count": 5,
   "metadata": {},
   "outputs": [],
   "source": [
    "df.drop_duplicates(subset='id', keep='first', inplace=True, ignore_index=True)"
   ]
  },
  {
   "cell_type": "code",
   "execution_count": 6,
   "metadata": {},
   "outputs": [
    {
     "data": {
      "text/html": [
       "<div>\n",
       "<style scoped>\n",
       "    .dataframe tbody tr th:only-of-type {\n",
       "        vertical-align: middle;\n",
       "    }\n",
       "\n",
       "    .dataframe tbody tr th {\n",
       "        vertical-align: top;\n",
       "    }\n",
       "\n",
       "    .dataframe thead th {\n",
       "        text-align: right;\n",
       "    }\n",
       "</style>\n",
       "<table border=\"1\" class=\"dataframe\">\n",
       "  <thead>\n",
       "    <tr style=\"text-align: right;\">\n",
       "      <th></th>\n",
       "      <th>id</th>\n",
       "      <th>date</th>\n",
       "      <th>price</th>\n",
       "      <th>bedrooms</th>\n",
       "      <th>bathrooms</th>\n",
       "      <th>sqft_living</th>\n",
       "      <th>sqft_lot</th>\n",
       "      <th>floors</th>\n",
       "      <th>waterfront</th>\n",
       "      <th>view</th>\n",
       "      <th>...</th>\n",
       "      <th>grade</th>\n",
       "      <th>sqft_above</th>\n",
       "      <th>sqft_basement</th>\n",
       "      <th>yr_built</th>\n",
       "      <th>yr_renovated</th>\n",
       "      <th>zipcode</th>\n",
       "      <th>lat</th>\n",
       "      <th>long</th>\n",
       "      <th>sqft_living15</th>\n",
       "      <th>sqft_lot15</th>\n",
       "    </tr>\n",
       "  </thead>\n",
       "  <tbody>\n",
       "  </tbody>\n",
       "</table>\n",
       "<p>0 rows × 21 columns</p>\n",
       "</div>"
      ],
      "text/plain": [
       "Empty DataFrame\n",
       "Columns: [id, date, price, bedrooms, bathrooms, sqft_living, sqft_lot, floors, waterfront, view, condition, grade, sqft_above, sqft_basement, yr_built, yr_renovated, zipcode, lat, long, sqft_living15, sqft_lot15]\n",
       "Index: []\n",
       "\n",
       "[0 rows x 21 columns]"
      ]
     },
     "execution_count": 6,
     "metadata": {},
     "output_type": "execute_result"
    }
   ],
   "source": [
    "df[df.duplicated(subset='id', keep='first')==True]"
   ]
  },
  {
   "cell_type": "markdown",
   "metadata": {},
   "source": [
    "Drop unnecessary columns. Features that are time related ('date', 'yr_renovated', etc) are not useful to us because we can only build homes starting from tomorrow. Likewise, 'condition' and 'grade' will also be removed because we are only building new homes, and will do so at the highest quality that we can."
   ]
  },
  {
   "cell_type": "code",
   "execution_count": 7,
   "metadata": {},
   "outputs": [],
   "source": [
    "df.drop(columns=['id','date','condition','grade','yr_built','yr_renovated'], inplace=True)"
   ]
  },
  {
   "cell_type": "code",
   "execution_count": 8,
   "metadata": {},
   "outputs": [
    {
     "name": "stdout",
     "output_type": "stream",
     "text": [
      "<class 'pandas.core.frame.DataFrame'>\n",
      "RangeIndex: 21420 entries, 0 to 21419\n",
      "Data columns (total 15 columns):\n",
      " #   Column         Non-Null Count  Dtype  \n",
      "---  ------         --------------  -----  \n",
      " 0   price          21420 non-null  float64\n",
      " 1   bedrooms       21420 non-null  int64  \n",
      " 2   bathrooms      21420 non-null  float64\n",
      " 3   sqft_living    21420 non-null  int64  \n",
      " 4   sqft_lot       21420 non-null  int64  \n",
      " 5   floors         21420 non-null  float64\n",
      " 6   waterfront     19067 non-null  float64\n",
      " 7   view           21357 non-null  float64\n",
      " 8   sqft_above     21420 non-null  int64  \n",
      " 9   sqft_basement  21420 non-null  object \n",
      " 10  zipcode        21420 non-null  int64  \n",
      " 11  lat            21420 non-null  float64\n",
      " 12  long           21420 non-null  float64\n",
      " 13  sqft_living15  21420 non-null  int64  \n",
      " 14  sqft_lot15     21420 non-null  int64  \n",
      "dtypes: float64(7), int64(7), object(1)\n",
      "memory usage: 2.5+ MB\n"
     ]
    }
   ],
   "source": [
    "df.info()"
   ]
  },
  {
   "cell_type": "markdown",
   "metadata": {},
   "source": [
    "Couldn't find a way to replace the null entries in 'view' and 'waterfront' columns since they are binary and there is no way of knowing what should be there. We will drop those rows, as it still leaves us ~90% of the data to work with."
   ]
  },
  {
   "cell_type": "code",
   "execution_count": 9,
   "metadata": {},
   "outputs": [],
   "source": [
    "df.dropna(subset=['view'], inplace=True)"
   ]
  },
  {
   "cell_type": "code",
   "execution_count": 10,
   "metadata": {},
   "outputs": [
    {
     "name": "stdout",
     "output_type": "stream",
     "text": [
      "<class 'pandas.core.frame.DataFrame'>\n",
      "Int64Index: 19010 entries, 1 to 21419\n",
      "Data columns (total 15 columns):\n",
      " #   Column         Non-Null Count  Dtype  \n",
      "---  ------         --------------  -----  \n",
      " 0   price          19010 non-null  float64\n",
      " 1   bedrooms       19010 non-null  int64  \n",
      " 2   bathrooms      19010 non-null  float64\n",
      " 3   sqft_living    19010 non-null  int64  \n",
      " 4   sqft_lot       19010 non-null  int64  \n",
      " 5   floors         19010 non-null  float64\n",
      " 6   waterfront     19010 non-null  float64\n",
      " 7   view           19010 non-null  float64\n",
      " 8   sqft_above     19010 non-null  int64  \n",
      " 9   sqft_basement  19010 non-null  object \n",
      " 10  zipcode        19010 non-null  int64  \n",
      " 11  lat            19010 non-null  float64\n",
      " 12  long           19010 non-null  float64\n",
      " 13  sqft_living15  19010 non-null  int64  \n",
      " 14  sqft_lot15     19010 non-null  int64  \n",
      "dtypes: float64(7), int64(7), object(1)\n",
      "memory usage: 2.3+ MB\n"
     ]
    }
   ],
   "source": [
    "df.dropna(subset=['waterfront'], inplace=True)\n",
    "df.info()"
   ]
  },
  {
   "cell_type": "markdown",
   "metadata": {},
   "source": [
    "Investigate 'sqft_basement column' because it should be a float but is currently an object."
   ]
  },
  {
   "cell_type": "code",
   "execution_count": 11,
   "metadata": {},
   "outputs": [
    {
     "data": {
      "text/plain": [
       "0.0       11282\n",
       "?           413\n",
       "600.0       189\n",
       "500.0       185\n",
       "700.0       184\n",
       "          ...  \n",
       "2730.0        1\n",
       "875.0         1\n",
       "266.0         1\n",
       "666.0         1\n",
       "861.0         1\n",
       "Name: sqft_basement, Length: 297, dtype: int64"
      ]
     },
     "execution_count": 11,
     "metadata": {},
     "output_type": "execute_result"
    }
   ],
   "source": [
    "df['sqft_basement'].value_counts()"
   ]
  },
  {
   "cell_type": "markdown",
   "metadata": {},
   "source": [
    "Looks like there are some rows with '?' as entries. We will change these to '0.0' for now so we can convert the column to float."
   ]
  },
  {
   "cell_type": "code",
   "execution_count": 12,
   "metadata": {},
   "outputs": [
    {
     "data": {
      "text/plain": [
       "0.0       11695\n",
       "600.0       189\n",
       "500.0       185\n",
       "700.0       184\n",
       "800.0       171\n",
       "          ...  \n",
       "2730.0        1\n",
       "875.0         1\n",
       "266.0         1\n",
       "666.0         1\n",
       "861.0         1\n",
       "Name: sqft_basement, Length: 296, dtype: int64"
      ]
     },
     "execution_count": 12,
     "metadata": {},
     "output_type": "execute_result"
    }
   ],
   "source": [
    "df.loc[df['sqft_basement']=='?', ['sqft_basement']] = '0.0'\n",
    "df['sqft_basement'].value_counts()"
   ]
  },
  {
   "cell_type": "code",
   "execution_count": 13,
   "metadata": {},
   "outputs": [],
   "source": [
    "df['sqft_basement'] = df['sqft_basement'].astype(float)"
   ]
  },
  {
   "cell_type": "code",
   "execution_count": 14,
   "metadata": {},
   "outputs": [
    {
     "name": "stdout",
     "output_type": "stream",
     "text": [
      "<class 'pandas.core.frame.DataFrame'>\n",
      "Int64Index: 19010 entries, 1 to 21419\n",
      "Data columns (total 15 columns):\n",
      " #   Column         Non-Null Count  Dtype  \n",
      "---  ------         --------------  -----  \n",
      " 0   price          19010 non-null  float64\n",
      " 1   bedrooms       19010 non-null  int64  \n",
      " 2   bathrooms      19010 non-null  float64\n",
      " 3   sqft_living    19010 non-null  int64  \n",
      " 4   sqft_lot       19010 non-null  int64  \n",
      " 5   floors         19010 non-null  float64\n",
      " 6   waterfront     19010 non-null  float64\n",
      " 7   view           19010 non-null  float64\n",
      " 8   sqft_above     19010 non-null  int64  \n",
      " 9   sqft_basement  19010 non-null  float64\n",
      " 10  zipcode        19010 non-null  int64  \n",
      " 11  lat            19010 non-null  float64\n",
      " 12  long           19010 non-null  float64\n",
      " 13  sqft_living15  19010 non-null  int64  \n",
      " 14  sqft_lot15     19010 non-null  int64  \n",
      "dtypes: float64(8), int64(7)\n",
      "memory usage: 2.3 MB\n"
     ]
    }
   ],
   "source": [
    "df.info()"
   ]
  },
  {
   "cell_type": "markdown",
   "metadata": {},
   "source": [
    "We noticed that sqft_living = sqft_above + sqft_basement. Because these columns are correlated, we will get rid of 'sqft_above' and 'sqft_basement'. Instead, we will have a binary column 'basement' to show whether or not the house has a basement."
   ]
  },
  {
   "cell_type": "code",
   "execution_count": 16,
   "metadata": {},
   "outputs": [
    {
     "data": {
      "text/plain": [
       "1300    124\n",
       "1440    121\n",
       "1400    117\n",
       "1820    117\n",
       "1660    113\n",
       "       ... \n",
       "7220      1\n",
       "1095      1\n",
       "3206      1\n",
       "1159      1\n",
       "2031      1\n",
       "Name: sqft_living, Length: 991, dtype: int64"
      ]
     },
     "execution_count": 16,
     "metadata": {},
     "output_type": "execute_result"
    }
   ],
   "source": [
    "df['sqft_living'].value_counts()"
   ]
  },
  {
   "cell_type": "code",
   "execution_count": 17,
   "metadata": {},
   "outputs": [
    {
     "data": {
      "text/plain": [
       "1300    192\n",
       "1010    179\n",
       "1200    171\n",
       "1060    166\n",
       "1220    164\n",
       "       ... \n",
       "3266      1\n",
       "3362      1\n",
       "1347      1\n",
       "809       1\n",
       "2031      1\n",
       "Name: sqft_above, Length: 903, dtype: int64"
      ]
     },
     "execution_count": 17,
     "metadata": {},
     "output_type": "execute_result"
    }
   ],
   "source": [
    "df['sqft_above'].value_counts()"
   ]
  },
  {
   "cell_type": "code",
   "execution_count": 18,
   "metadata": {},
   "outputs": [],
   "source": [
    "df['sqft_basement'] = df['sqft_living'] - df['sqft_above']"
   ]
  },
  {
   "cell_type": "code",
   "execution_count": 19,
   "metadata": {},
   "outputs": [
    {
     "data": {
      "text/html": [
       "<div>\n",
       "<style scoped>\n",
       "    .dataframe tbody tr th:only-of-type {\n",
       "        vertical-align: middle;\n",
       "    }\n",
       "\n",
       "    .dataframe tbody tr th {\n",
       "        vertical-align: top;\n",
       "    }\n",
       "\n",
       "    .dataframe thead th {\n",
       "        text-align: right;\n",
       "    }\n",
       "</style>\n",
       "<table border=\"1\" class=\"dataframe\">\n",
       "  <thead>\n",
       "    <tr style=\"text-align: right;\">\n",
       "      <th></th>\n",
       "      <th>price</th>\n",
       "      <th>bedrooms</th>\n",
       "      <th>bathrooms</th>\n",
       "      <th>sqft_living</th>\n",
       "      <th>sqft_lot</th>\n",
       "      <th>floors</th>\n",
       "      <th>waterfront</th>\n",
       "      <th>view</th>\n",
       "      <th>sqft_above</th>\n",
       "      <th>sqft_basement</th>\n",
       "      <th>zipcode</th>\n",
       "      <th>lat</th>\n",
       "      <th>long</th>\n",
       "      <th>sqft_living15</th>\n",
       "      <th>sqft_lot15</th>\n",
       "      <th>basement</th>\n",
       "    </tr>\n",
       "  </thead>\n",
       "  <tbody>\n",
       "    <tr>\n",
       "      <th>1</th>\n",
       "      <td>538000.0</td>\n",
       "      <td>3</td>\n",
       "      <td>2.25</td>\n",
       "      <td>2570</td>\n",
       "      <td>7242</td>\n",
       "      <td>2.0</td>\n",
       "      <td>0.0</td>\n",
       "      <td>0.0</td>\n",
       "      <td>2170</td>\n",
       "      <td>400</td>\n",
       "      <td>98125</td>\n",
       "      <td>47.7210</td>\n",
       "      <td>-122.319</td>\n",
       "      <td>1690</td>\n",
       "      <td>7639</td>\n",
       "      <td>1</td>\n",
       "    </tr>\n",
       "    <tr>\n",
       "      <th>2</th>\n",
       "      <td>180000.0</td>\n",
       "      <td>2</td>\n",
       "      <td>1.00</td>\n",
       "      <td>770</td>\n",
       "      <td>10000</td>\n",
       "      <td>1.0</td>\n",
       "      <td>0.0</td>\n",
       "      <td>0.0</td>\n",
       "      <td>770</td>\n",
       "      <td>0</td>\n",
       "      <td>98028</td>\n",
       "      <td>47.7379</td>\n",
       "      <td>-122.233</td>\n",
       "      <td>2720</td>\n",
       "      <td>8062</td>\n",
       "      <td>0</td>\n",
       "    </tr>\n",
       "    <tr>\n",
       "      <th>3</th>\n",
       "      <td>604000.0</td>\n",
       "      <td>4</td>\n",
       "      <td>3.00</td>\n",
       "      <td>1960</td>\n",
       "      <td>5000</td>\n",
       "      <td>1.0</td>\n",
       "      <td>0.0</td>\n",
       "      <td>0.0</td>\n",
       "      <td>1050</td>\n",
       "      <td>910</td>\n",
       "      <td>98136</td>\n",
       "      <td>47.5208</td>\n",
       "      <td>-122.393</td>\n",
       "      <td>1360</td>\n",
       "      <td>5000</td>\n",
       "      <td>1</td>\n",
       "    </tr>\n",
       "    <tr>\n",
       "      <th>4</th>\n",
       "      <td>510000.0</td>\n",
       "      <td>3</td>\n",
       "      <td>2.00</td>\n",
       "      <td>1680</td>\n",
       "      <td>8080</td>\n",
       "      <td>1.0</td>\n",
       "      <td>0.0</td>\n",
       "      <td>0.0</td>\n",
       "      <td>1680</td>\n",
       "      <td>0</td>\n",
       "      <td>98074</td>\n",
       "      <td>47.6168</td>\n",
       "      <td>-122.045</td>\n",
       "      <td>1800</td>\n",
       "      <td>7503</td>\n",
       "      <td>0</td>\n",
       "    </tr>\n",
       "    <tr>\n",
       "      <th>5</th>\n",
       "      <td>1230000.0</td>\n",
       "      <td>4</td>\n",
       "      <td>4.50</td>\n",
       "      <td>5420</td>\n",
       "      <td>101930</td>\n",
       "      <td>1.0</td>\n",
       "      <td>0.0</td>\n",
       "      <td>0.0</td>\n",
       "      <td>3890</td>\n",
       "      <td>1530</td>\n",
       "      <td>98053</td>\n",
       "      <td>47.6561</td>\n",
       "      <td>-122.005</td>\n",
       "      <td>4760</td>\n",
       "      <td>101930</td>\n",
       "      <td>1</td>\n",
       "    </tr>\n",
       "  </tbody>\n",
       "</table>\n",
       "</div>"
      ],
      "text/plain": [
       "       price  bedrooms  bathrooms  sqft_living  sqft_lot  floors  waterfront  \\\n",
       "1   538000.0         3       2.25         2570      7242     2.0         0.0   \n",
       "2   180000.0         2       1.00          770     10000     1.0         0.0   \n",
       "3   604000.0         4       3.00         1960      5000     1.0         0.0   \n",
       "4   510000.0         3       2.00         1680      8080     1.0         0.0   \n",
       "5  1230000.0         4       4.50         5420    101930     1.0         0.0   \n",
       "\n",
       "   view  sqft_above  sqft_basement  zipcode      lat     long  sqft_living15  \\\n",
       "1   0.0        2170            400    98125  47.7210 -122.319           1690   \n",
       "2   0.0         770              0    98028  47.7379 -122.233           2720   \n",
       "3   0.0        1050            910    98136  47.5208 -122.393           1360   \n",
       "4   0.0        1680              0    98074  47.6168 -122.045           1800   \n",
       "5   0.0        3890           1530    98053  47.6561 -122.005           4760   \n",
       "\n",
       "   sqft_lot15  basement  \n",
       "1        7639         1  \n",
       "2        8062         0  \n",
       "3        5000         1  \n",
       "4        7503         0  \n",
       "5      101930         1  "
      ]
     },
     "execution_count": 19,
     "metadata": {},
     "output_type": "execute_result"
    }
   ],
   "source": [
    "df['basement'] = np.where(df['sqft_basement'] > 0, 1, 0)\n",
    "df.head()"
   ]
  },
  {
   "cell_type": "code",
   "execution_count": 20,
   "metadata": {},
   "outputs": [
    {
     "name": "stdout",
     "output_type": "stream",
     "text": [
      "<class 'pandas.core.frame.DataFrame'>\n",
      "Int64Index: 19010 entries, 1 to 21419\n",
      "Data columns (total 14 columns):\n",
      " #   Column         Non-Null Count  Dtype  \n",
      "---  ------         --------------  -----  \n",
      " 0   price          19010 non-null  float64\n",
      " 1   bedrooms       19010 non-null  int64  \n",
      " 2   bathrooms      19010 non-null  float64\n",
      " 3   sqft_living    19010 non-null  int64  \n",
      " 4   sqft_lot       19010 non-null  int64  \n",
      " 5   floors         19010 non-null  float64\n",
      " 6   waterfront     19010 non-null  float64\n",
      " 7   view           19010 non-null  float64\n",
      " 8   zipcode        19010 non-null  int64  \n",
      " 9   lat            19010 non-null  float64\n",
      " 10  long           19010 non-null  float64\n",
      " 11  sqft_living15  19010 non-null  int64  \n",
      " 12  sqft_lot15     19010 non-null  int64  \n",
      " 13  basement       19010 non-null  int32  \n",
      "dtypes: float64(7), int32(1), int64(6)\n",
      "memory usage: 2.1 MB\n"
     ]
    }
   ],
   "source": [
    "df.drop(columns=['sqft_basement', 'sqft_above'], inplace=True)\n",
    "df.info()"
   ]
  },
  {
   "cell_type": "markdown",
   "metadata": {},
   "source": [
    "Function to run all KFold tests and OLS models moving forward."
   ]
  },
  {
   "cell_type": "code",
   "execution_count": null,
   "metadata": {},
   "outputs": [],
   "source": [
    "def run_model(x, y, data):\n",
    "    linreg = LinearRegression()\n",
    "    crossvalidation = KFold(n_splits = 10, shuffle = True, random_state = 1)\n",
    "    mean_r2 = np.mean(cross_val_score(regression, x, y, scoring='r2', cv=crossvalidation))\n",
    "    \n",
    "    x_cols = data.drop('price', axis=1).columns\n",
    "    y_col = 'price'\n",
    "    plus = '+'.join(x_cols)\n",
    "    formula = y_col + '~' + predictors\n",
    "    model = ols(formula=formula, data=data).fit()\n",
    "    print('The mean cross val score for a KFold test with 10 splits is {} \\n'.format(mean_r2))\n",
    "    print(model.summary())"
   ]
  },
  {
   "cell_type": "markdown",
   "metadata": {},
   "source": [
    "Run baseline model with just scrubbed data. No improvements made yet."
   ]
  },
  {
   "cell_type": "code",
   "execution_count": 37,
   "metadata": {
    "scrolled": false
   },
   "outputs": [
    {
     "name": "stdout",
     "output_type": "stream",
     "text": [
      "The mean cross val score for a KFold test with 10 splits is 0.6483184964608456 \n",
      "\n",
      "                            OLS Regression Results                            \n",
      "==============================================================================\n",
      "Dep. Variable:                  price   R-squared:                       0.653\n",
      "Model:                            OLS   Adj. R-squared:                  0.652\n",
      "Method:                 Least Squares   F-statistic:                     2744.\n",
      "Date:                Mon, 05 Jul 2021   Prob (F-statistic):               0.00\n",
      "Time:                        18:39:09   Log-Likelihood:            -2.6073e+05\n",
      "No. Observations:               19010   AIC:                         5.215e+05\n",
      "Df Residuals:                   18996   BIC:                         5.216e+05\n",
      "Df Model:                          13                                         \n",
      "Covariance Type:            nonrobust                                         \n",
      "=================================================================================\n",
      "                    coef    std err          t      P>|t|      [0.025      0.975]\n",
      "---------------------------------------------------------------------------------\n",
      "Intercept     -2.922e+07   3.21e+06     -9.107      0.000   -3.55e+07   -2.29e+07\n",
      "bedrooms      -4.134e+04   2166.526    -19.083      0.000   -4.56e+04   -3.71e+04\n",
      "bathrooms      1.901e+04   3569.130      5.326      0.000     1.2e+04     2.6e+04\n",
      "sqft_living     249.4767      3.620     68.912      0.000     242.381     256.573\n",
      "sqft_lot          0.1995      0.057      3.530      0.000       0.089       0.310\n",
      "floors        -4794.2842   3788.066     -1.266      0.206   -1.22e+04    2630.661\n",
      "waterfront     5.998e+05   2.01e+04     29.914      0.000    5.61e+05    6.39e+05\n",
      "view           6.464e+04   2450.400     26.380      0.000    5.98e+04    6.94e+04\n",
      "zipcode        -557.0862     37.913    -14.694      0.000    -631.399    -482.773\n",
      "lat            7.243e+05   1.22e+04     59.600      0.000       7e+05    7.48e+05\n",
      "long          -4.044e+05   1.47e+04    -27.518      0.000   -4.33e+05   -3.76e+05\n",
      "sqft_living15    57.3418      3.766     15.227      0.000      49.961      64.723\n",
      "sqft_lot15       -0.4475      0.084     -5.308      0.000      -0.613      -0.282\n",
      "basement      -2.457e+04   3891.879     -6.314      0.000   -3.22e+04   -1.69e+04\n",
      "==============================================================================\n",
      "Omnibus:                    14309.355   Durbin-Watson:                   2.002\n",
      "Prob(Omnibus):                  0.000   Jarque-Bera (JB):           921734.012\n",
      "Skew:                           3.054   Prob(JB):                         0.00\n",
      "Kurtosis:                      36.562   Cond. No.                     2.03e+08\n",
      "==============================================================================\n",
      "\n",
      "Notes:\n",
      "[1] Standard Errors assume that the covariance matrix of the errors is correctly specified.\n",
      "[2] The condition number is large, 2.03e+08. This might indicate that there are\n",
      "strong multicollinearity or other numerical problems.\n"
     ]
    }
   ],
   "source": [
    "x = df.drop(['price'], axis=1)\n",
    "y = df['price']\n",
    "run_model(x, y, df)"
   ]
  },
  {
   "cell_type": "code",
   "execution_count": 45,
   "metadata": {},
   "outputs": [
    {
     "data": {
      "image/png": "[encoded data removed]",
      "text/plain": [
       "<Figure size 864x864 with 2 Axes>"
      ]
     },
     "metadata": {},
     "output_type": "display_data"
    }
   ],
   "source": [
    "corr = df.corr()\n",
    "fig, ax = plt.subplots(figsize=(12,12))\n",
    "sns.heatmap(corr, cmap='Reds', annot=True, ax=ax);"
   ]
  },
  {
   "cell_type": "code",
   "execution_count": 46,
   "metadata": {},
   "outputs": [
    {
     "data": {
      "text/plain": [
       "541850.0774855339"
      ]
     },
     "execution_count": 46,
     "metadata": {},
     "output_type": "execute_result"
    }
   ],
   "source": [
    "df['price'].mean()"
   ]
  },
  {
   "cell_type": "code",
   "execution_count": 47,
   "metadata": {},
   "outputs": [
    {
     "data": {
      "text/plain": [
       "371479.2597782629"
      ]
     },
     "execution_count": 47,
     "metadata": {},
     "output_type": "execute_result"
    }
   ],
   "source": [
    "df['price'].std()"
   ]
  },
  {
   "cell_type": "code",
   "execution_count": 54,
   "metadata": {},
   "outputs": [
    {
     "data": {
      "text/plain": [
       "78000.0"
      ]
     },
     "execution_count": 54,
     "metadata": {},
     "output_type": "execute_result"
    }
   ],
   "source": [
    "df['price'].min()"
   ]
  },
  {
   "cell_type": "code",
   "execution_count": 63,
   "metadata": {},
   "outputs": [
    {
     "name": "stdout",
     "output_type": "stream",
     "text": [
      "<class 'pandas.core.frame.DataFrame'>\n",
      "Int64Index: 18662 entries, 1 to 21419\n",
      "Data columns (total 14 columns):\n",
      " #   Column         Non-Null Count  Dtype  \n",
      "---  ------         --------------  -----  \n",
      " 0   price          18662 non-null  float64\n",
      " 1   bedrooms       18662 non-null  int64  \n",
      " 2   bathrooms      18662 non-null  float64\n",
      " 3   sqft_living    18662 non-null  int64  \n",
      " 4   sqft_lot       18662 non-null  int64  \n",
      " 5   floors         18662 non-null  float64\n",
      " 6   waterfront     18662 non-null  float64\n",
      " 7   view           18662 non-null  float64\n",
      " 8   zipcode        18662 non-null  int64  \n",
      " 9   lat            18662 non-null  float64\n",
      " 10  long           18662 non-null  float64\n",
      " 11  sqft_living15  18662 non-null  int64  \n",
      " 12  sqft_lot15     18662 non-null  int64  \n",
      " 13  basement       18662 non-null  int32  \n",
      "dtypes: float64(7), int32(1), int64(6)\n",
      "memory usage: 2.1 MB\n"
     ]
    }
   ],
   "source": [
    "mu = np.mean(df['price'])\n",
    "std = np.std(df['price'])\n",
    "outlier = 3*std\n",
    "df_no_outlier = df[(df['price'] <= mu+outlier) & (df['price'] >= mu-outlier)]\n",
    "df_no_outlier.info()"
   ]
  },
  {
   "cell_type": "code",
   "execution_count": 64,
   "metadata": {},
   "outputs": [
    {
     "data": {
      "text/plain": [
       "1650000.0"
      ]
     },
     "execution_count": 64,
     "metadata": {},
     "output_type": "execute_result"
    }
   ],
   "source": [
    "df_no_outlier['price'].max()"
   ]
  },
  {
   "cell_type": "code",
   "execution_count": 65,
   "metadata": {},
   "outputs": [
    {
     "name": "stdout",
     "output_type": "stream",
     "text": [
      "<class 'pandas.core.frame.DataFrame'>\n",
      "Int64Index: 18695 entries, 1 to 21419\n",
      "Data columns (total 14 columns):\n",
      " #   Column         Non-Null Count  Dtype  \n",
      "---  ------         --------------  -----  \n",
      " 0   price          18695 non-null  float64\n",
      " 1   bedrooms       18695 non-null  int64  \n",
      " 2   bathrooms      18695 non-null  float64\n",
      " 3   sqft_living    18695 non-null  int64  \n",
      " 4   sqft_lot       18695 non-null  int64  \n",
      " 5   floors         18695 non-null  float64\n",
      " 6   waterfront     18695 non-null  float64\n",
      " 7   view           18695 non-null  float64\n",
      " 8   zipcode        18695 non-null  int64  \n",
      " 9   lat            18695 non-null  float64\n",
      " 10  long           18695 non-null  float64\n",
      " 11  sqft_living15  18695 non-null  int64  \n",
      " 12  sqft_lot15     18695 non-null  int64  \n",
      " 13  basement       18695 non-null  int32  \n",
      "dtypes: float64(7), int32(1), int64(6)\n",
      "memory usage: 2.1 MB\n"
     ]
    }
   ],
   "source": [
    "continuous = ['price', 'bedrooms', 'bathrooms', 'sqft_living', 'sqft_lot', 'floors', 'lat', 'long', 'sqft_living15', 'sqft_lot15']\n",
    "for col in continuous:\n",
    "    mu = np.mean(df[col])\n",
    "    std = np.std(df[col])\n",
    "    outlier = 3*std\n",
    "    df_no_outlier = df[(df[col] <= mu+outlier) & (df[col] >= mu-outlier)]\n",
    "df_no_outlier.info()"
   ]
  },
  {
   "cell_type": "code",
   "execution_count": null,
   "metadata": {},
   "outputs": [],
   "source": []
  }
 ],
 "metadata": {
  "kernelspec": {
   "display_name": "Python 3",
   "language": "python",
   "name": "python3"
  },
  "language_info": {
   "codemirror_mode": {
    "name": "ipython",
    "version": 3
   },
   "file_extension": ".py",
   "mimetype": "text/x-python",
   "name": "python",
   "nbconvert_exporter": "python",
   "pygments_lexer": "ipython3",
   "version": "3.8.8"
  }
 },
 "nbformat": 4,
 "nbformat_minor": 2
}
